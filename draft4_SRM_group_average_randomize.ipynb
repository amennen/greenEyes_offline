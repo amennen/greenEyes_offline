{
 "cells": [
  {
   "cell_type": "code",
   "execution_count": 1,
   "metadata": {},
   "outputs": [
    {
     "name": "stderr",
     "output_type": "stream",
     "text": [
      "/jukebox/pkgs/PYGER/beta/lib/python3.6/site-packages/h5py/__init__.py:36: FutureWarning: Conversion of the second argument of issubdtype from `float` to `np.floating` is deprecated. In future, it will be treated as `np.float64 == np.dtype(float).type`.\n",
      "  from ._conv import register_converters as _register_converters\n",
      "/jukebox/pkgs/PYGER/beta/lib/python3.6/site-packages/sklearn/cross_validation.py:41: DeprecationWarning: This module was deprecated in version 0.18 in favor of the model_selection module into which all the refactored classes and functions are moved. Also note that the interface of the new CV iterators are different from that of this module. This module will be removed in 0.20.\n",
      "  \"This module will be removed in 0.20.\", DeprecationWarning)\n"
     ]
    }
   ],
   "source": [
    "import numpy as np\n",
    "import nibabel\n",
    "import nilearn\n",
    "from nilearn.image import resample_to_img\n",
    "import matplotlib.pyplot as plt\n",
    "from nilearn import plotting\n",
    "from nilearn.plotting import show\n",
    "from nilearn.plotting import plot_roi\n",
    "from nilearn import image\n",
    "from nilearn.masking import apply_mask\n",
    "# get_ipython().magic('matplotlib inline')\n",
    "import scipy\n",
    "import matplotlib\n",
    "import matplotlib.pyplot as plt\n",
    "from nilearn import image\n",
    "from nilearn.input_data import NiftiMasker\n",
    "#from nilearn import plotting\n",
    "import nibabel\n",
    "from nilearn.masking import apply_mask\n",
    "from nilearn.image import load_img\n",
    "from nilearn.image import new_img_like\n",
    "import numpy as np\n",
    "from sklearn.naive_bayes import GaussianNB\n",
    "from sklearn.linear_model import LogisticRegression\n",
    "from sklearn.ensemble import RandomForestClassifier\n",
    "from sklearn import datasets, svm, metrics\n",
    "from sklearn.linear_model import Ridge\n",
    "from sklearn.svm import SVC, LinearSVC\n",
    "from sklearn.cross_validation import KFold\n",
    "from sklearn.cross_validation import LeaveOneLabelOut\n",
    "from sklearn.neighbors import KNeighborsClassifier\n",
    "from sklearn.neighbors.nearest_centroid import NearestCentroid\n",
    "from sklearn.multiclass import OneVsRestClassifier\n",
    "from sklearn.cross_validation import cross_val_score\n",
    "from sklearn.cross_validation import StratifiedKFold\n",
    "from sklearn.metrics import roc_curve, auc, roc_auc_score\n",
    "from sklearn.feature_selection import SelectFwe\n",
    "from scipy import signal\n",
    "from scipy.fftpack import fft, fftshift\n",
    "from scipy import interp\n",
    "\n",
    "params = {'legend.fontsize': 'large',\n",
    "          'figure.figsize': (5, 3),\n",
    "          'axes.labelsize': 'x-large',\n",
    "          'axes.titlesize': 'x-large',\n",
    "          'xtick.labelsize': 'x-large',\n",
    "          'ytick.labelsize': 'x-large'}\n",
    "font = {'weight': 'bold',\n",
    "        'size': 22}\n",
    "plt.rc('font', **font)\n",
    "from sklearn.feature_selection import VarianceThreshold\n",
    "from sklearn.feature_selection import SelectPercentile, f_classif, GenericUnivariateSelect, SelectKBest, chi2\n",
    "from sklearn.feature_selection import RFE\n",
    "import os\n",
    "import seaborn as sns\n",
    "import pandas as pd\n",
    "import csv\n",
    "from scipy import stats\n",
    "import brainiak\n",
    "import brainiak.funcalign.srm\n",
    "import glob"
   ]
  },
  {
   "cell_type": "code",
   "execution_count": 2,
   "metadata": {},
   "outputs": [],
   "source": [
    "projectDir='/jukebox/norman/amennen/prettymouth/'\n",
    "DMNmask='/jukebox/norman/amennen/MNI_things/Yeo_JNeurophysiol11_MNI152/Yeo_Network7mask_reoriented_resampledBOLD.nii.gz'\n",
    "fmriprep_dir=projectDir + '/derivatives/fmriprep'"
   ]
  },
  {
   "cell_type": "code",
   "execution_count": 3,
   "metadata": {},
   "outputs": [],
   "source": [
    "# load subject numbers\n",
    "subInd = 0\n",
    "nsub=38\n",
    "allnames = []\n",
    "allgroups = []\n",
    "groupInfo={}\n",
    "# skip subjects 039 and 116\n",
    "with open(projectDir + 'participants.tsv') as csvDataFile:\n",
    "    csvReader = csv.reader(csvDataFile)\n",
    "    for row in csvReader:\n",
    "        if 'sub' in row[0]:\n",
    "            # now skip the subjects we don't want to analyze\n",
    "            allInfo = row[0].split('\\t')\n",
    "            subjName=allInfo[0]\n",
    "            if subjName != 'sub-039' and subjName != 'sub-116':\n",
    "                if allInfo[3] == 'paranoia':\n",
    "                    group = 0\n",
    "                elif allInfo[3] == 'affair':\n",
    "                    group = 1\n",
    "                allnames.append(subjName)\n",
    "                allgroups.append(group)\n",
    "                subInd+=1"
   ]
  },
  {
   "cell_type": "code",
   "execution_count": 4,
   "metadata": {},
   "outputs": [
    {
     "name": "stdout",
     "output_type": "stream",
     "text": [
      "['sub-088', 'sub-089', 'sub-090', 'sub-091', 'sub-092', 'sub-093', 'sub-094', 'sub-095', 'sub-096', 'sub-097', 'sub-098', 'sub-099', 'sub-100', 'sub-101', 'sub-102', 'sub-103', 'sub-104', 'sub-105', 'sub-106', 'sub-107', 'sub-108', 'sub-109', 'sub-110', 'sub-111', 'sub-068', 'sub-081', 'sub-112', 'sub-053', 'sub-113', 'sub-031', 'sub-114', 'sub-115', 'sub-117', 'sub-118', 'sub-119', 'sub-120', 'sub-121', 'sub-122']\n"
     ]
    }
   ],
   "source": [
    "paranoidSubj = allnames[0:19]\n",
    "cheatingSubj = allnames[19:]\n",
    "paranoidLabel = allgroups[0:19]\n",
    "cheatingLabel = allgroups[19:]\n",
    "nfolds=19\n",
    "print(allnames)"
   ]
  },
  {
   "cell_type": "code",
   "execution_count": 41,
   "metadata": {},
   "outputs": [
    {
     "name": "stdout",
     "output_type": "stream",
     "text": [
      "1000\n",
      "*********\n",
      "average accuracy is for k1 10 and k2 200: 0.57 +/- 0.35\n"
     ]
    }
   ],
   "source": [
    "k1=10\n",
    "k2=200\n",
    "filename = 'accuracy_SRM_randomized/accuracy_k1_' + str(k1) + '_k2_' + str(k2) + '_rep_*storyTRz.npy'\n",
    "all_file_names = glob.glob(filename)\n",
    "n_iter = len(all_file_names)\n",
    "accuracy = np.zeros(n_iter)\n",
    "print(n_iter)\n",
    "for f in np.arange(n_iter):\n",
    "    z = np.load(all_file_names[f])\n",
    "    accuracy[f] = z[0]\n",
    "print('*********')\n",
    "print('average accuracy is for k1 %i and k2 %i: %2.2f +/- %2.2f' % (k1,k2,np.mean(accuracy),np.std(accuracy)))\n"
   ]
  },
  {
   "cell_type": "code",
   "execution_count": 125,
   "metadata": {},
   "outputs": [
    {
     "name": "stdout",
     "output_type": "stream",
     "text": [
      "1000\n",
      "*********\n",
      "average accuracy is for k1 20 and k2 100: 0.54 +/- 0.36\n"
     ]
    }
   ],
   "source": [
    "## HERE: WE'RE SPLITTING TRS BY LOW/HIGH DIFFERENCE\n",
    "k1=20\n",
    "k2=100\n",
    "lowhigh = 1\n",
    "if lowhigh == 1:\n",
    "    filename = 'accuracy_SRM_randomized/accuracy_LOW_k1_' + str(k1) + '_k2_' + str(k2) + '_rep_*storyTRz.npy'\n",
    "elif lowhigh == 2:\n",
    "    filename = 'accuracy_SRM_randomized/accuracy_HIGH_k1_' + str(k1) + '_k2_' + str(k2) + '_rep_*storyTRz.npy'\n",
    "all_file_names = glob.glob(filename)\n",
    "n_iter = len(all_file_names)\n",
    "accuracy = np.zeros(n_iter)\n",
    "print(n_iter)\n",
    "for f in np.arange(n_iter):\n",
    "    z = np.load(all_file_names[f])\n",
    "    accuracy[f] = z[0]\n",
    "print('*********')\n",
    "print('average accuracy is for k1 %i and k2 %i: %2.2f +/- %2.2f' % (k1,k2,np.mean(accuracy),np.std(accuracy)))\n"
   ]
  },
  {
   "cell_type": "code",
   "execution_count": 31,
   "metadata": {},
   "outputs": [
    {
     "name": "stdout",
     "output_type": "stream",
     "text": [
      "1000\n",
      "*********\n",
      "average accuracy is for k1 1 and k2 200: 0.73 +/- 0.29\n"
     ]
    }
   ],
   "source": [
    "## HERE: WE'RE SPLITTING TRS BY LOW/HIGH DIFFERENCE\n",
    "k1=1\n",
    "k2=200\n",
    "lowhigh = 2\n",
    "if lowhigh == 1:\n",
    "    filename = 'accuracy_SRM_randomized/accuracy_LOW_k1_' + str(k1) + '_k2_' + str(k2) + '_rep_*storyTRz.npy'\n",
    "elif lowhigh == 2:\n",
    "    filename = 'accuracy_SRM_randomized/accuracy_HIGH_k1_' + str(k1) + '_k2_' + str(k2) + '_rep_*storyTRz.npy'\n",
    "all_file_names = glob.glob(filename)\n",
    "n_iter = len(all_file_names)\n",
    "accuracy = np.zeros(n_iter)\n",
    "print(n_iter)\n",
    "for f in np.arange(n_iter):\n",
    "    z = np.load(all_file_names[f])\n",
    "    accuracy[f] = z[0]\n",
    "print('*********')\n",
    "print('average accuracy is for k1 %i and k2 %i: %2.2f +/- %2.2f' % (k1,k2,np.mean(accuracy),np.std(accuracy)))\n"
   ]
  },
  {
   "cell_type": "code",
   "execution_count": 10,
   "metadata": {},
   "outputs": [
    {
     "name": "stdout",
     "output_type": "stream",
     "text": [
      "687\n",
      "*********\n",
      "average accuracy is for k1 1 and k2 100: 0.75 +/- 0.27\n"
     ]
    }
   ],
   "source": [
    "## HERE: WE'RE SPLITTING TRS BY LOW/HIGH DIFFERENCE \n",
    "## HERE IT'S THE HELD OUT DATA!!!\n",
    "k1=1\n",
    "k2=100\n",
    "lowhigh = 1\n",
    "if lowhigh == 1:\n",
    "    filename = 'accuracy_SRM_randomized/nosubject_accuracy_LOW_k1_' + str(k1) + '_k2_' + str(k2) + '_rep_*storyTRz.npy'\n",
    "elif lowhigh == 2:\n",
    "    filename = 'accuracy_SRM_randomized/nosubject_accuracy_HIGH_k1_' + str(k1) + '_k2_' + str(k2) + '_rep_*storyTRz.npy'\n",
    "all_file_names = glob.glob(filename)\n",
    "n_iter = len(all_file_names)\n",
    "accuracy = np.zeros(n_iter)\n",
    "print(n_iter)\n",
    "for f in np.arange(n_iter):\n",
    "    z = np.load(all_file_names[f])\n",
    "    accuracy[f] = z[0]\n",
    "print('*********')\n",
    "print('average accuracy is for k1 %i and k2 %i: %2.2f +/- %2.2f' % (k1,k2,np.mean(accuracy),np.std(accuracy)))\n"
   ]
  },
  {
   "cell_type": "code",
   "execution_count": 5,
   "metadata": {},
   "outputs": [
    {
     "name": "stdout",
     "output_type": "stream",
     "text": [
      "1000\n",
      "*********\n",
      "average accuracy is for k1 0 and k2 0: 0.92 +/- 0.20\n"
     ]
    }
   ],
   "source": [
    "## HERE: WE'RE SPLITTING TRS BY LOW/HIGH DIFFERENCE\n",
    "k1=0\n",
    "k2=0\n",
    "lowhigh = 2\n",
    "if lowhigh == 1:\n",
    "    filename = 'accuracy_SRM_randomized/nosubject_accuracy_LOW_k1_' + str(k1) + '_k2_' + str(k2) + '_rep*storyTRz.npy'\n",
    "elif lowhigh == 2:\n",
    "    filename = 'accuracy_SRM_randomized/nosubject_accuracy_HIGH_k1_' + str(k1) + '_k2_' + str(k2) + '_rep*storyTRz.npy'\n",
    "all_file_names = glob.glob(filename)\n",
    "n_iter = len(all_file_names)\n",
    "accuracy = np.zeros(n_iter)\n",
    "print(n_iter)\n",
    "for f in np.arange(n_iter):\n",
    "    z = np.load(all_file_names[f])\n",
    "    accuracy[f] = z[0]\n",
    "print('*********')\n",
    "print('average accuracy is for k1 %i and k2 %i: %2.2f +/- %2.2f' % (k1,k2,np.mean(accuracy),np.std(accuracy)))\n"
   ]
  },
  {
   "cell_type": "code",
   "execution_count": null,
   "metadata": {},
   "outputs": [],
   "source": []
  },
  {
   "cell_type": "code",
   "execution_count": 25,
   "metadata": {},
   "outputs": [
    {
     "data": {
      "text/plain": [
       "884"
      ]
     },
     "execution_count": 25,
     "metadata": {},
     "output_type": "execute_result"
    }
   ],
   "source": [
    "n_iter"
   ]
  },
  {
   "cell_type": "code",
   "execution_count": null,
   "metadata": {},
   "outputs": [],
   "source": []
  }
 ],
 "metadata": {
  "kernelspec": {
   "display_name": "Python [default]",
   "language": "python",
   "name": "python3"
  },
  "language_info": {
   "codemirror_mode": {
    "name": "ipython",
    "version": 3
   },
   "file_extension": ".py",
   "mimetype": "text/x-python",
   "name": "python",
   "nbconvert_exporter": "python",
   "pygments_lexer": "ipython3",
   "version": "3.6.4"
  }
 },
 "nbformat": 4,
 "nbformat_minor": 2
}
