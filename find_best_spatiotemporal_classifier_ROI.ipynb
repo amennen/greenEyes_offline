{
 "cells": [
  {
   "cell_type": "code",
   "execution_count": 77,
   "metadata": {},
   "outputs": [],
   "source": [
    "import numpy as np\n",
    "import nibabel\n",
    "import nilearn\n",
    "from nilearn.image import resample_to_img\n",
    "import matplotlib.pyplot as plt\n",
    "from nilearn import plotting\n",
    "from nilearn.plotting import show\n",
    "from nilearn.plotting import plot_roi\n",
    "from nilearn import image\n",
    "from nilearn.masking import apply_mask\n",
    "# get_ipython().magic('matplotlib inline')\n",
    "import scipy\n",
    "import matplotlib\n",
    "import matplotlib.pyplot as plt\n",
    "from nilearn import image\n",
    "from nilearn.input_data import NiftiMasker\n",
    "#from nilearn import plotting\n",
    "import nibabel\n",
    "from nilearn.masking import apply_mask\n",
    "from nilearn.image import load_img\n",
    "from nilearn.image import new_img_like\n",
    "import numpy as np\n",
    "from sklearn.naive_bayes import GaussianNB\n",
    "from sklearn.linear_model import LogisticRegression\n",
    "from sklearn.ensemble import RandomForestClassifier\n",
    "from sklearn import datasets, svm, metrics\n",
    "from sklearn.linear_model import Ridge\n",
    "from sklearn.svm import SVC, LinearSVC\n",
    "from sklearn.cross_validation import KFold\n",
    "from sklearn.cross_validation import LeaveOneLabelOut\n",
    "from sklearn.neighbors import KNeighborsClassifier\n",
    "from sklearn.neighbors.nearest_centroid import NearestCentroid\n",
    "from sklearn.multiclass import OneVsRestClassifier\n",
    "from sklearn.cross_validation import cross_val_score\n",
    "from sklearn.cross_validation import StratifiedKFold\n",
    "from sklearn.metrics import roc_curve, auc, roc_auc_score\n",
    "from sklearn.feature_selection import SelectFwe\n",
    "from scipy import signal\n",
    "from scipy.fftpack import fft, fftshift\n",
    "from scipy import interp\n",
    "\n",
    "params = {'legend.fontsize': 'large',\n",
    "          'figure.figsize': (5, 3),\n",
    "          'axes.labelsize': 'x-large',\n",
    "          'axes.titlesize': 'x-large',\n",
    "          'xtick.labelsize': 'x-large',\n",
    "          'ytick.labelsize': 'x-large'}\n",
    "font = {'weight': 'bold',\n",
    "        'size': 22}\n",
    "plt.rc('font', **font)\n",
    "from sklearn.feature_selection import VarianceThreshold\n",
    "from sklearn.feature_selection import SelectPercentile, f_classif, GenericUnivariateSelect, SelectKBest, chi2\n",
    "from sklearn.feature_selection import RFE\n",
    "import os\n",
    "import seaborn as sns\n",
    "import pandas as pd\n",
    "import csv\n",
    "from scipy import stats\n",
    "import brainiak\n",
    "import brainiak.funcalign.srm\n",
    "import glob"
   ]
  },
  {
   "cell_type": "code",
   "execution_count": 78,
   "metadata": {},
   "outputs": [],
   "source": [
    "projectDir='/jukebox/norman/amennen/prettymouth/'\n",
    "DMNmask='/jukebox/norman/amennen/MNI_things/Yeo_JNeurophysiol11_MNI152/Yeo_Network7mask_reoriented_resampledBOLD.nii.gz'\n",
    "fmriprep_dir=projectDir + '/derivatives/fmriprep'"
   ]
  },
  {
   "cell_type": "code",
   "execution_count": 79,
   "metadata": {},
   "outputs": [],
   "source": [
    "# load subject numbers\n",
    "subInd = 0\n",
    "nsub=38\n",
    "allnames = []\n",
    "allgroups = []\n",
    "groupInfo={}\n",
    "# skip subjects 039 and 116\n",
    "with open(projectDir + 'participants.tsv') as csvDataFile:\n",
    "    csvReader = csv.reader(csvDataFile)\n",
    "    for row in csvReader:\n",
    "        if 'sub' in row[0]:\n",
    "            # now skip the subjects we don't want to analyze\n",
    "            allInfo = row[0].split('\\t')\n",
    "            subjName=allInfo[0]\n",
    "            if subjName != 'sub-039' and subjName != 'sub-116':\n",
    "                if allInfo[3] == 'paranoia':\n",
    "                    group = 0\n",
    "                elif allInfo[3] == 'affair':\n",
    "                    group = 1\n",
    "                allnames.append(subjName)\n",
    "                allgroups.append(group)\n",
    "                subInd+=1"
   ]
  },
  {
   "cell_type": "code",
   "execution_count": 80,
   "metadata": {},
   "outputs": [
    {
     "name": "stdout",
     "output_type": "stream",
     "text": [
      "['sub-088', 'sub-089', 'sub-090', 'sub-091', 'sub-092', 'sub-093', 'sub-094', 'sub-095', 'sub-096', 'sub-097', 'sub-098', 'sub-099', 'sub-100', 'sub-101', 'sub-102', 'sub-103', 'sub-104', 'sub-105', 'sub-106', 'sub-107', 'sub-108', 'sub-109', 'sub-110', 'sub-111', 'sub-068', 'sub-081', 'sub-112', 'sub-053', 'sub-113', 'sub-031', 'sub-114', 'sub-115', 'sub-117', 'sub-118', 'sub-119', 'sub-120', 'sub-121', 'sub-122']\n"
     ]
    }
   ],
   "source": [
    "paranoidSubj = allnames[0:19]\n",
    "cheatingSubj = allnames[19:]\n",
    "paranoidLabel = allgroups[0:19]\n",
    "cheatingLabel = allgroups[19:]\n",
    "nfolds=19\n",
    "print(allnames)\n",
    "segment_score_vector = np.load('segment_score_vector.npy')\n",
    "beliefs_vector = np.load('beliefs_vector.npy')\n",
    "emotions_vector = np.load('emotions_vector.npy')\n",
    "intentions_vector = np.load('intentions_vector.npy')"
   ]
  },
  {
   "cell_type": "code",
   "execution_count": 81,
   "metadata": {},
   "outputs": [],
   "source": [
    "# load all the possible\n",
    "n_options = 105\n",
    "all_k1 = np.zeros((n_options))\n",
    "all_k2 = np.zeros((n_options))\n",
    "all_filters = np.zeros((n_options))\n",
    "all_removeAvg = np.zeros((n_options))\n",
    "all_masks = np.zeros((n_options))\n",
    "with open('array_combinations.csv') as csv_file:\n",
    "    csv_reader = csv.reader(csv_file, delimiter=',')\n",
    "    line_count = 0\n",
    "    for row in csv_reader:\n",
    "        #print(row)\n",
    "        if line_count > 0:\n",
    "            i=np.int(row[0])\n",
    "            all_k1[i-1]=np.int(row[1])\n",
    "            all_k2[i-1]=np.int(row[2])\n",
    "            all_filters[i-1]=np.int(row[3])\n",
    "            all_removeAvg[i-1]=np.int(row[4])\n",
    "            all_masks[i-1]=np.int(row[5])\n",
    "        line_count += 1"
   ]
  },
  {
   "cell_type": "code",
   "execution_count": 84,
   "metadata": {},
   "outputs": [
    {
     "data": {
      "text/plain": [
       "81"
      ]
     },
     "execution_count": 84,
     "metadata": {},
     "output_type": "execute_result"
    }
   ],
   "source": [
    "all_masks\n",
    "# only take the ROIs for that one\n",
    "ROI = 2\n",
    "ind_ROI = np.argwhere(all_masks==ROI)\n",
    "perm_vals = ind_ROI + 1\n",
    "if ROI == 0:\n",
    "    all_ROI_ind = perm_vals[:,0]\n",
    "else:\n",
    "    all_ROI_ind = np.concatenate((np.arange(1,70),perm_vals[:,0]),axis=0)\n",
    "len(all_ROI_ind)"
   ]
  },
  {
   "cell_type": "code",
   "execution_count": 85,
   "metadata": {},
   "outputs": [
    {
     "name": "stdout",
     "output_type": "stream",
     "text": [
      "ITERATION 1 FOUND\n",
      "ITERATION 2 FOUND\n",
      "ITERATION 3 FOUND\n",
      "ITERATION 4 FOUND\n",
      "ITERATION 5 FOUND\n",
      "ITERATION 6 FOUND\n",
      "ITERATION 7 FOUND\n",
      "ITERATION 8 FOUND\n",
      "ITERATION 9 FOUND\n",
      "ITERATION 10 FOUND\n",
      "ITERATION 11 FOUND\n",
      "ITERATION 12 FOUND\n",
      "ITERATION 13 FOUND\n",
      "ITERATION 14 FOUND\n",
      "ITERATION 15 FOUND\n",
      "ITERATION 16 FOUND\n",
      "ITERATION 17 FOUND\n",
      "ITERATION 18 FOUND\n",
      "ITERATION 19 FOUND\n",
      "ITERATION 20 FOUND\n",
      "ITERATION 21 FOUND\n",
      "ITERATION 22 FOUND\n",
      "ITERATION 23 FOUND\n",
      "ITERATION 24 FOUND\n",
      "ITERATION 25 FOUND\n",
      "ITERATION 26 FOUND\n",
      "ITERATION 27 FOUND\n",
      "ITERATION 28 FOUND\n",
      "ITERATION 29 FOUND\n",
      "ITERATION 30 FOUND\n",
      "ITERATION 31 FOUND\n",
      "ITERATION 32 FOUND\n",
      "ITERATION 33 FOUND\n",
      "ITERATION 34 FOUND\n",
      "ITERATION 35 FOUND\n",
      "ITERATION 36 FOUND\n",
      "ITERATION 37 FOUND\n",
      "ITERATION 38 FOUND\n",
      "ITERATION 39 FOUND\n",
      "ITERATION 40 FOUND\n",
      "ITERATION 41 FOUND\n",
      "ITERATION 42 FOUND\n",
      "ITERATION 43 FOUND\n",
      "ITERATION 44 FOUND\n",
      "ITERATION 45 FOUND\n",
      "ITERATION 46 FOUND\n",
      "ITERATION 47 FOUND\n",
      "ITERATION 48 FOUND\n",
      "ITERATION 49 FOUND\n",
      "ITERATION 50 FOUND\n",
      "ITERATION 51 FOUND\n",
      "ITERATION 52 FOUND\n",
      "ITERATION 53 FOUND\n",
      "ITERATION 54 FOUND\n",
      "ITERATION 55 FOUND\n",
      "ITERATION 56 FOUND\n",
      "ITERATION 57 FOUND\n",
      "ITERATION 58 FOUND\n",
      "ITERATION 59 FOUND\n",
      "ITERATION 60 FOUND\n",
      "ITERATION 61 FOUND\n",
      "ITERATION 62 FOUND\n",
      "ITERATION 63 FOUND\n",
      "ITERATION 64 FOUND\n",
      "ITERATION 65 FOUND\n",
      "ITERATION 66 FOUND\n",
      "ITERATION 67 FOUND\n",
      "ITERATION 68 FOUND\n",
      "ITERATION 69 FOUND\n",
      "ITERATION 94 FOUND\n",
      "ITERATION 95 FOUND\n",
      "ITERATION 96 FOUND\n",
      "ITERATION 97 FOUND\n",
      "ITERATION 98 FOUND\n",
      "ITERATION 99 FOUND\n",
      "ITERATION 100 FOUND\n",
      "ITERATION 101 FOUND\n",
      "ITERATION 102 FOUND\n",
      "ITERATION 103 FOUND\n",
      "ITERATION 104 FOUND\n",
      "ITERATION 105 FOUND\n",
      "*************************************************\n",
      "ITERATIONS COMPLETED:\n",
      "[0, 1, 2, 3, 4, 5, 6, 7, 8, 9, 10, 11, 12, 13, 14, 15, 16, 17, 18, 19, 20, 21, 22, 23, 24, 25, 26, 27, 28, 29, 30, 31, 32, 33, 34, 35, 36, 37, 38, 39, 40, 41, 42, 43, 44, 45, 46, 47, 48, 49, 50, 51, 52, 53, 54, 55, 56, 57, 58, 59, 60, 61, 62, 63, 64, 65, 66, 67, 68, 69, 70, 71, 72, 73, 74, 75, 76, 77, 78, 79, 80]\n",
      "number completed: 81/81\n"
     ]
    }
   ],
   "source": [
    "# now see how many have finished if exists, ploy\n",
    "n_options = len(all_ROI_ind)\n",
    "iterations_completed = []\n",
    "classifierType = 2\n",
    "lowhigh = 0\n",
    "for ii in np.arange(n_options):\n",
    "    perm = all_ROI_ind[ii]\n",
    "    index=perm-1\n",
    "    k1 = np.int(all_k1[index])\n",
    "    k2 = np.int(all_k2[index])\n",
    "    filterType = np.int(all_filters[index])\n",
    "    if perm < 70:\n",
    "        fn_type = glob.glob('new_bothphases/ARRAYDATA' + '_ROI_' + str(ROI) + '*_classifierType_' + str(classifierType) + '_filter_' + str(filterType) + '_lowhigh_' + str(lowhigh) + '_k1_' + str(k1) + '_k2_' + str(k2) + '_perm_' + str(perm) + '.npy')\n",
    "        filename_data = fn_type[0]\n",
    "        #filename_data = 'new_bothphases/ARRAYDATA' + '_ROI_' + str(ROI) + '_classifierType_' + str(classifierType) + '_filter_' + str(filterType) + '_lowhigh_' + str(lowhigh) + '_k1_' + str(k1) + '_k2_' + str(k2) + '_perm_' + str(perm) + '.npy'\n",
    "        \n",
    "        #print(filename_data)\n",
    "    else:\n",
    "        filename_data = 'new_bothphases/ARRAYDATA' + '_ROI_' + str(ROI) + '_AVGREMOVE_1' +  '_classifierType_' + str(classifierType) + '_filter_' + str(filterType) + '_lowhigh_' + str(lowhigh) + '_k1_' + str(k1) + '_k2_' + str(k2) + '_perm_' + str(perm) + '.npy'\n",
    "        #print(filename_data)\n",
    "    if os.path.isfile(filename_data):\n",
    "        print('ITERATION %i FOUND' % perm)\n",
    "        iterations_completed.append(ii)\n",
    "        all_accuracies = np.load(filename_data) # this is 450 TRs x 1000 examples\n",
    "    else:\n",
    "        print('ITERATION %i NOT FOUND' % perm)\n",
    "print('*************************************************')\n",
    "print('ITERATIONS COMPLETED:')\n",
    "print(iterations_completed)\n",
    "n_completed = len(iterations_completed)\n",
    "print('number completed: %i/%i' % (n_completed,n_options))"
   ]
  },
  {
   "cell_type": "code",
   "execution_count": 86,
   "metadata": {},
   "outputs": [],
   "source": [
    "# now for the ones that have been completed:\n",
    "# 1. average accuracy over 1000 samples\n",
    "# 2. average accuracy over all TRs\n",
    "# 3. plot\n",
    "# 4. determine which one has the best one\n",
    "n_completed = len(iterations_completed)\n",
    "nTR = 450\n",
    "n_iter = 1000\n",
    "all_accuracy_data = np.zeros((n_iter,n_completed))\n",
    "for cc in np.arange(n_completed):\n",
    "    perm = all_ROI_ind[cc]\n",
    "    index=perm-1\n",
    "    k1 = np.int(all_k1[index])\n",
    "    k2 = np.int(all_k2[index])\n",
    "    filterType = np.int(all_filters[index])\n",
    "    if perm < 70:\n",
    "        #filename_data = 'new_bothphases/ARRAYDATA' + '_ROI_' + str(ROI) + '_classifierType_' + str(classifierType) + '_filter_' + str(filterType) + '_lowhigh_' + str(lowhigh) + '_k1_' + str(k1) + '_k2_' + str(k2) + '_perm_' + str(perm) + '.npy'\n",
    "        fn_type = glob.glob('new_bothphases/ARRAYDATA' + '_ROI_' + str(ROI) + '*_classifierType_' + str(classifierType) + '_filter_' + str(filterType) + '_lowhigh_' + str(lowhigh) + '_k1_' + str(k1) + '_k2_' + str(k2) + '_perm_' + str(perm) + '.npy')\n",
    "        filename_data = fn_type[0]\n",
    "    else:\n",
    "        filename_data = 'new_bothphases/ARRAYDATA' + '_ROI_' + str(ROI) + '_AVGREMOVE_1' +  '_classifierType_' + str(classifierType) + '_filter_' + str(filterType) + '_lowhigh_' + str(lowhigh) + '_k1_' + str(k1) + '_k2_' + str(k2) + '_perm_' + str(perm) + '.npy'\n",
    "\n",
    "    all_accuracies = np.load(filename_data) # this is 450 TRs x 1000 examples\n",
    "    all_accuracy_data[:,cc] = all_accuracies\n",
    "\n",
    "# all_accuracy_data is 1000 iterations x number of types completed"
   ]
  },
  {
   "cell_type": "code",
   "execution_count": 87,
   "metadata": {},
   "outputs": [
    {
     "name": "stdout",
     "output_type": "stream",
     "text": [
      "the best classification accuracy is 0.8145\n"
     ]
    }
   ],
   "source": [
    "# now plot mean over all TRs in order from best to worst\n",
    "total_average = np.mean(all_accuracy_data,axis=0)\n",
    "large_small_ind = np.argsort(total_average)[::-1] # this is the indexes form all the ones that have been completed\n",
    "ACC_average_sorted = all_accuracy_data[:,large_small_ind]\n",
    "total_average_sorted = total_average[large_small_ind]\n",
    "print('the best classification accuracy is %4.4f' % total_average_sorted[0])"
   ]
  },
  {
   "cell_type": "code",
   "execution_count": 88,
   "metadata": {},
   "outputs": [],
   "source": [
    "# now plot\n",
    "# there's 1000 accuracy scores per each combo -- each accuracy score is an iteration of leave one out classification\n",
    "data_acc_vector = ACC_average_sorted.flatten()\n",
    "iter_number = np.repeat(np.arange(n_iter),n_completed)\n",
    "combo = np.tile(np.arange(n_completed),n_iter)\n",
    "#datanull = np.repeat(np.arange(2),n_combo*n_iter)\n",
    "all_data = np.concatenate((data_acc_vector[:,np.newaxis],iter_number[:,np.newaxis],combo[:,np.newaxis]),axis=1)\n",
    "df = pd.DataFrame(data=all_data, columns=['accuracy',  'iter', 'combo'])"
   ]
  },
  {
   "cell_type": "code",
   "execution_count": 89,
   "metadata": {
    "scrolled": false
   },
   "outputs": [
    {
     "data": {
      "text/plain": [
       "Text(0.5,1,'Mean accuracy over all classifier types')"
      ]
     },
     "execution_count": 89,
     "metadata": {},
     "output_type": "execute_result"
    },
    {
     "data": {
      "image/png": "[encoded data removed]",
      "text/plain": [
       "<Figure size 1440x720 with 1 Axes>"
      ]
     },
     "metadata": {},
     "output_type": "display_data"
    }
   ],
   "source": [
    "sns.set(font_scale=1)\n",
    "\n",
    "plt.figure(figsize=(20,10))\n",
    "pl = sns.barplot(data=df,x=\"combo\",y=\"accuracy\",ci=95)\n",
    "#sns.stripplot(data=df,x=\"combo\",y=\"accuracy\",jitter=True,split=True,hue=\"datanull\",color=\"k\")\n",
    "#sns.violinplot(data=df,x=\"combo\",y=\"accuracy\",hue=\"datanull\",split=True)\n",
    "for i in np.arange(n_completed):\n",
    "    perm = all_ROI_ind[large_small_ind[i]]\n",
    "    c_index = perm - 1\n",
    "    #c_index = iterations_completed[large_small_ind[i]]\n",
    "    k1 = np.int(all_k1[c_index])\n",
    "    k2 = np.int(all_k2[c_index])\n",
    "    filterType = np.int(all_filters[c_index])\n",
    "    wasAvgRemove = np.int(all_removeAvg[c_index])\n",
    "    combo_k1k2 = [k1,k2]\n",
    "    str_avg = '%2.2f' % total_average_sorted[i]\n",
    "    pl.text(i, 1.05, str(wasAvgRemove), horizontalalignment='center', size='small', color='black',weight='bold')\n",
    "    #pl.text(i, total_average_sorted[i]+0.1, str_avg, horizontalalignment='center', size='small', color='black', weight='light')\n",
    "    pl.text(i, 1, str(filterType), horizontalalignment='center', size='small', color='black',weight='bold')\n",
    "    pl.text(i, 0.95, str(k1), horizontalalignment='center', size='small', color='black',weight='light')\n",
    "    pl.text(i, 0.9, str(k2), horizontalalignment='center', size='small', color='black',weight='light')\n",
    "\n",
    "plt.plot([-10 ,n_completed+5], [.5, .5], 'c--', lw=6)\n",
    "plt.xlim([-1,n_completed])\n",
    "plt.ylim([0.5,1.1])\n",
    "plt.xlabel('Classifier parameter combination')\n",
    "plt.title('Mean accuracy over all classifier types')"
   ]
  },
  {
   "cell_type": "code",
   "execution_count": null,
   "metadata": {},
   "outputs": [],
   "source": []
  }
 ],
 "metadata": {
  "kernelspec": {
   "display_name": "Python [default]",
   "language": "python",
   "name": "python3"
  },
  "language_info": {
   "codemirror_mode": {
    "name": "ipython",
    "version": 3
   },
   "file_extension": ".py",
   "mimetype": "text/x-python",
   "name": "python",
   "nbconvert_exporter": "python",
   "pygments_lexer": "ipython3",
   "version": "3.6.4"
  }
 },
 "nbformat": 4,
 "nbformat_minor": 2
}
